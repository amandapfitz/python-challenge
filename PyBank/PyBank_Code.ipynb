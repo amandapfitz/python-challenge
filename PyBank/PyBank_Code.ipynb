{
 "cells": [
  {
   "cell_type": "code",
   "execution_count": 1,
   "metadata": {},
   "outputs": [],
   "source": [
    "import os\n",
    "import csv"
   ]
  },
  {
   "cell_type": "code",
   "execution_count": 2,
   "metadata": {},
   "outputs": [],
   "source": [
    "csvpath = os.path.join(\"..\",\"..\",\"..\",\"..\",\"..\",\"..\",\"Desktop\",\"GTATL201908DATA3\",\n",
    "                       \"02 - Homework\",\"03-Python\",\"Instructions\",\"PyBank\",\"Resources\",\n",
    "                       \"budget_data.csv\")"
   ]
  },
  {
   "cell_type": "code",
   "execution_count": 3,
   "metadata": {},
   "outputs": [
    {
     "data": {
      "text/plain": [
       "'../../../../../../Desktop/GTATL201908DATA3/02 - Homework/03-Python/Instructions/PyBank/Resources/budget_data.csv'"
      ]
     },
     "execution_count": 3,
     "metadata": {},
     "output_type": "execute_result"
    }
   ],
   "source": [
    "csvpath"
   ]
  },
  {
   "cell_type": "code",
   "execution_count": 341,
   "metadata": {},
   "outputs": [
    {
     "name": "stdout",
     "output_type": "stream",
     "text": [
      "Financial Analysis\n",
      "------------------\n",
      "Total Months: 86\n",
      "Total: $38382578\n",
      "Average Change: $-2315.12\n",
      "Greatest Increase in Profits: Feb-2012 ($1926159)\n",
      "Greatest Decrease in Profits: Sep-2013 ($-2196167)\n"
     ]
    }
   ],
   "source": [
    "with open(csvpath, newline=\"\") as csvfile:\n",
    "    csvreader = csv.reader(csvfile, delimiter = \",\")\n",
    "    csv_header = next(csvfile)\n",
    "    count = 0\n",
    "    average_l = []\n",
    "    profit_l = []\n",
    "    full_l = []\n",
    "    f = open(\"PyBank_results.txt\",\"w\")\n",
    "    \n",
    "    for row in csvreader:\n",
    "        profit_l.append(int(row[1]))\n",
    "        average_l.append(int(row[1]))\n",
    "        full_l.append(row[0])\n",
    "        count += 1\n",
    "\n",
    "    print(\"Financial Analysis\")\n",
    "    print(\"------------------\")\n",
    "    print(\"Total Months: {}\".format(count))\n",
    "    print(\"Total: ${}\".format(sum(profit_l)))\n",
    "    \n",
    "print(\"Financial Analysis\", file=f)\n",
    "print(\"------------------\", file=f)\n",
    "print(\"Total Months: {}\".format(count), file=f)\n",
    "print(\"Total: ${}\".format(sum(profit_l)), file=f)\n",
    "\n",
    "def average(num1_l,num2_l):\n",
    "    average_change=([j-i for i,j in zip(num1_l,num2_l)])\n",
    "    maximum = int(max(average_change))\n",
    "    minimum = int(min(average_change))\n",
    "    \n",
    "    for k in average_change:\n",
    "        if k == maximum:\n",
    "            locate = (average_change.index(k)+1)\n",
    "            \n",
    "    for m in average_change:\n",
    "        if m == minimum:\n",
    "            locate2 = (average_change.index(m)+1)\n",
    "            \n",
    "    print(\"Average Change: ${}\".format(round(sum(average_change)/(count-1),2)))\n",
    "    print(\"Greatest Increase in Profits: {} (${})\".format(full_l[locate],maximum))\n",
    "    print(\"Greatest Decrease in Profits: {} (${})\".format(full_l[locate2],minimum))\n",
    "    \n",
    "    print(\"Average Change: ${}\".format(round(sum(average_change)/(count-1),2)), file=f)\n",
    "    print(\"Greatest Increase in Profits: {} (${})\".format(full_l[locate],maximum), file=f)\n",
    "    print(\"Greatest Decrease in Profits: {} (${})\".format(full_l[locate2],minimum), file=f)\n",
    "    \n",
    "\n",
    "    return  \n",
    "    \n",
    "profit_l.pop()\n",
    "average_l.pop(-86)\n",
    "\n",
    "average(profit_l,average_l)\n",
    "f.close()"
   ]
  },
  {
   "cell_type": "code",
   "execution_count": null,
   "metadata": {},
   "outputs": [],
   "source": []
  },
  {
   "cell_type": "code",
   "execution_count": null,
   "metadata": {},
   "outputs": [],
   "source": []
  }
 ],
 "metadata": {
  "kernelspec": {
   "display_name": "Python 3",
   "language": "python",
   "name": "python3"
  },
  "language_info": {
   "codemirror_mode": {
    "name": "ipython",
    "version": 3
   },
   "file_extension": ".py",
   "mimetype": "text/x-python",
   "name": "python",
   "nbconvert_exporter": "python",
   "pygments_lexer": "ipython3",
   "version": "3.7.3"
  }
 },
 "nbformat": 4,
 "nbformat_minor": 4
}
