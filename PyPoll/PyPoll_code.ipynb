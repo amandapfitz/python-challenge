{
 "cells": [
  {
   "cell_type": "code",
   "execution_count": 3,
   "metadata": {},
   "outputs": [],
   "source": [
    "import os\n",
    "import csv"
   ]
  },
  {
   "cell_type": "code",
   "execution_count": 5,
   "metadata": {},
   "outputs": [],
   "source": [
    "csvpath = os.path.join(\"..\",\"..\",\"..\",\"..\",\"..\",\"..\",\"Desktop\",\"GTATL201908DATA3\",\n",
    "                       \"02 - Homework\",\"03-Python\",\"Instructions\",\"PyPoll\",\"Resources\",\n",
    "                       \"election_data.csv\")"
   ]
  },
  {
   "cell_type": "code",
   "execution_count": 85,
   "metadata": {},
   "outputs": [
    {
     "name": "stdout",
     "output_type": "stream",
     "text": [
      "Election Results\n",
      "-------------------------\n",
      "Total Votes: 3521001\n",
      "-------------------------\n",
      "Khan: 63.0% (2218231)\n",
      "Correy: 20.0% (704200)\n",
      "Li: 14.0% (492940)\n",
      "O'Tooley: 3.0% (105630)\n",
      "-------------------------\n",
      "Winner: Khan\n",
      "-------------------------\n"
     ]
    }
   ],
   "source": [
    "with open(csvpath, newline=\"\") as csvfile:\n",
    "    csvreader = csv.reader(csvfile, delimiter = \",\")\n",
    "    csv_header = next(csvfile)\n",
    "    original_info_l = []\n",
    "    count_khan = 0\n",
    "    count_correy = 0\n",
    "    count_li = 0\n",
    "    count_otooley = 0\n",
    "    f = open(\"PyPoll_results.txt\",\"w\")\n",
    "    \n",
    "    for row in csvreader:\n",
    "        original_info_l.append(row[2])\n",
    "        total_votes = len(original_info_l)\n",
    "        \n",
    "    print(\"Election Results\")\n",
    "    print(\"-------------------------\")\n",
    "    print(\"Total Votes: {}\".format(total_votes))\n",
    "    print(\"-------------------------\")\n",
    "    \n",
    "    print(\"Election Results\", file=f)\n",
    "    print(\"-------------------------\", file=f)\n",
    "    print(\"Total Votes: {}\".format(total_votes), file=f)\n",
    "    print(\"-------------------------\", file=f)\n",
    "    \n",
    "    for row in original_info_l:\n",
    "        if row == \"Khan\":\n",
    "            count_khan += 1\n",
    "        if row == \"Correy\":\n",
    "            count_correy +=1\n",
    "        if row == \"Li\":\n",
    "            count_li += 1\n",
    "        if row == \"O'Tooley\":\n",
    "            count_otooley += 1\n",
    "    \n",
    "    print(\"Khan: {}% ({})\".format(round(((count_khan/total_votes)*100),3),count_khan))\n",
    "    print(\"Correy: {}% ({})\".format(round(((count_correy/total_votes)*100),3),count_correy))\n",
    "    print(\"Li: {}% ({})\".format(round(((count_li/total_votes)*100),3),count_li))\n",
    "    print(\"O'Tooley: {}% ({})\".format(round(((count_otooley/total_votes)*100),3),count_otooley))\n",
    "    print(\"-------------------------\")\n",
    "    \n",
    "    print(\"Khan: {}% ({})\".format(round(((count_khan/total_votes)*100),3),count_khan), file=f)\n",
    "    print(\"Correy: {}% ({})\".format(round(((count_correy/total_votes)*100),3),count_correy), file=f)\n",
    "    print(\"Li: {}% ({})\".format(round(((count_li/total_votes)*100),3),count_li), file=f)\n",
    "    print(\"O'Tooley: {}% ({})\".format(round(((count_otooley/total_votes)*100),3),count_otooley), file=f)\n",
    "    print(\"-------------------------\", file=f)   \n",
    "    \n",
    "    if count_khan > count_correy | count_li | count_otooley:\n",
    "        print(\"Winner: Khan\")\n",
    "        print(\"Winner: Khan\", file=f)\n",
    "    if count_correy > count_khan | count_li | count_otooley:\n",
    "        print(\"Winner: Correy\")\n",
    "        print(\"Winner: Correy\", file=f)\n",
    "    if count_li > count_correy | count_khan | count_otooley:\n",
    "        print(\"Winner: Li\")\n",
    "        print(\"Winner: Li\", file=f)\n",
    "    if count_otooley > count_correy | count_khan | count_li:\n",
    "        print(\"Winner: O'Tooley\")\n",
    "        print(\"Winner: O'Tooley\", file=f)\n",
    "    print(\"-------------------------\")\n",
    "    print(\"-------------------------\", file=f)\n",
    "    f.close()\n"
   ]
  },
  {
   "cell_type": "code",
   "execution_count": null,
   "metadata": {},
   "outputs": [],
   "source": []
  }
 ],
 "metadata": {
  "kernelspec": {
   "display_name": "Python 3",
   "language": "python",
   "name": "python3"
  },
  "language_info": {
   "codemirror_mode": {
    "name": "ipython",
    "version": 3
   },
   "file_extension": ".py",
   "mimetype": "text/x-python",
   "name": "python",
   "nbconvert_exporter": "python",
   "pygments_lexer": "ipython3",
   "version": "3.7.3"
  }
 },
 "nbformat": 4,
 "nbformat_minor": 4
}
